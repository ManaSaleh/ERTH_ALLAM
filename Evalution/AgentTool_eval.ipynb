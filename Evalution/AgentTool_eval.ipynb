{
 "cells": [
  {
   "cell_type": "code",
   "execution_count": 1,
   "id": "78ee1ab5",
   "metadata": {},
   "outputs": [],
   "source": [
    "import pandas as pd\n",
    "\n",
    "df = pd.read_csv('answer_allam_v1.0.csv' , index_col=[0])"
   ]
  },
  {
   "cell_type": "code",
   "execution_count": 2,
   "id": "a4928aee",
   "metadata": {},
   "outputs": [
    {
     "name": "stdout",
     "output_type": "stream",
     "text": [
      "<class 'pandas.core.frame.DataFrame'>\n",
      "Index: 118 entries, 0 to 117\n",
      "Data columns (total 4 columns):\n",
      " #   Column         Non-Null Count  Dtype  \n",
      "---  ------         --------------  -----  \n",
      " 0   Question       118 non-null    object \n",
      " 1   actual_answer  118 non-null    object \n",
      " 2   ALLAM_answer   118 non-null    object \n",
      " 3   RAG_answer     0 non-null      float64\n",
      "dtypes: float64(1), object(3)\n",
      "memory usage: 4.6+ KB\n"
     ]
    }
   ],
   "source": [
    "df.info()"
   ]
  },
  {
   "cell_type": "code",
   "execution_count": 3,
   "id": "cbdfe2ce-06ff-400d-b0f3-a9c68d589cc0",
   "metadata": {},
   "outputs": [],
   "source": [
    "import logging\n",
    "from llama_index.core.callbacks import CallbackManager, LlamaDebugHandler\n",
    "from llama_index.core import Settings\n",
    "\n",
    "llama_debug = LlamaDebugHandler(print_trace_on_end=True)\n",
    "callback_manager = CallbackManager([llama_debug])\n",
    "Settings.callback_manager = callback_manager\n",
    "\n",
    "logging.basicConfig(level=logging.INFO)\n",
    "logging.basicConfig(level=logging.DEBUG)\n",
    "# logging.basicConfig(level=logging.ERROR)"
   ]
  },
  {
   "cell_type": "markdown",
   "id": "b202ceb7-5e7a-4223-8890-c1ae1bda09d2",
   "metadata": {},
   "source": [
    "## Load Environment"
   ]
  },
  {
   "cell_type": "code",
   "execution_count": 4,
   "id": "6bbd09cb-022f-4c66-8d47-5f472b7f5222",
   "metadata": {},
   "outputs": [],
   "source": [
    "import os\n",
    "from dotenv import load_dotenv\n",
    "\n",
    "env_path = '../NoteBook/keys.env'\n",
    "load_dotenv(env_path)\n",
    "\n",
    "env_vars = {\n",
    "    \"watsonx_url\": os.getenv(\"WATSONX_URL\"),\n",
    "    \"watsonx_apikey\": os.getenv(\"WATSONX_APIKEY\"),\n",
    "    \"ibm_project_id\": os.getenv(\"IBM_PROJECT_ID\"),\n",
    "    \"qdrant_url\": os.getenv(\"QDRANT_URL\"),\n",
    "    \"qdrant_api_key\": os.getenv(\"QDRANT_API_KEY\"),\n",
    "    \"openai_api_key\": os.getenv(\"OPENAI_API_KEY\"),\n",
    "}"
   ]
  },
  {
   "cell_type": "markdown",
   "id": "5a51f168-112d-44b8-91ed-f8551aaf4fcc",
   "metadata": {},
   "source": [
    "## ALLaM"
   ]
  },
  {
   "cell_type": "code",
   "execution_count": 5,
   "id": "092cae04-3ed3-42b9-98c0-62d66bdb70fb",
   "metadata": {},
   "outputs": [
    {
     "name": "stderr",
     "output_type": "stream",
     "text": [
      "INFO:ibm_watsonx_ai.client:Client successfully initialized\n",
      "INFO:ibm_watsonx_ai.wml_resource:Successfully finished Get available foundation models for url: 'https://eu-de.ml.cloud.ibm.com/ml/v1/foundation_model_specs?version=2024-09-09&project_id=3a8440c4-195f-4d43-8f7d-508334622851&filters=function_text_generation%2C%21lifecycle_withdrawn%3Aand&limit=200'\n"
     ]
    }
   ],
   "source": [
    "from llama_index.llms.ibm.base import WatsonxLLM\n",
    "\n",
    "model_id = \"sdaia/allam-1-13b-instruct\"\n",
    "max_new_tokens = 256\n",
    "\n",
    "llm = WatsonxLLM(\n",
    "    model_id=model_id,\n",
    "    credentials={\"url\": env_vars['watsonx_url'], \"apikey\": env_vars['watsonx_apikey']},\n",
    "    project_id=env_vars['ibm_project_id'],\n",
    "    max_new_tokens=max_new_tokens,\n",
    "    additional_params={\n",
    "        \"decoding_method\": \"greedy\", \n",
    "        \"beam_width\": 10, \n",
    "        \"repetition_penalty\": 1, \n",
    "        \"temperature\": 1  \n",
    "    },\n",
    "    context_window=4096\n",
    ")"
   ]
  },
  {
   "cell_type": "markdown",
   "id": "6fc01f86-4ce4-445f-839e-5068087902dd",
   "metadata": {},
   "source": [
    "## Qdrant"
   ]
  },
  {
   "cell_type": "code",
   "execution_count": 6,
   "id": "04ae5cf5-8a12-4b97-8bf5-6bad346482e2",
   "metadata": {},
   "outputs": [
    {
     "name": "stderr",
     "output_type": "stream",
     "text": [
      "/home/mana-saleh/anaconda3/envs/allam/lib/python3.12/site-packages/tqdm/auto.py:21: TqdmWarning: IProgress not found. Please update jupyter and ipywidgets. See https://ipywidgets.readthedocs.io/en/stable/user_install.html\n",
      "  from .autonotebook import tqdm as notebook_tqdm\n",
      "INFO:httpx:HTTP Request: GET https://dbf8b0b1-79e9-47b1-9e54-4f8dd8c1793f.europe-west3-0.gcp.cloud.qdrant.io:6333/collections \"HTTP/1.1 200 OK\"\n"
     ]
    }
   ],
   "source": [
    "from qdrant_client import QdrantClient\n",
    "\n",
    "collection_name = \"collection\"\n",
    "\n",
    "qdrant_client = QdrantClient(url=env_vars['qdrant_url'], api_key=env_vars['qdrant_api_key'])\n",
    "\n",
    "collections = qdrant_client.get_collections()"
   ]
  },
  {
   "cell_type": "code",
   "execution_count": 7,
   "id": "12b10e14-424e-4def-976a-b61b6522e20b",
   "metadata": {},
   "outputs": [
    {
     "name": "stderr",
     "output_type": "stream",
     "text": [
      "INFO:httpx:HTTP Request: GET https://dbf8b0b1-79e9-47b1-9e54-4f8dd8c1793f.europe-west3-0.gcp.cloud.qdrant.io:6333/collections/collection/exists \"HTTP/1.1 200 OK\"\n"
     ]
    }
   ],
   "source": [
    "from llama_index.vector_stores.qdrant import QdrantVectorStore\n",
    "\n",
    "vector_store = QdrantVectorStore(client=qdrant_client, collection_name=collection_name)"
   ]
  },
  {
   "cell_type": "markdown",
   "id": "887964e5",
   "metadata": {},
   "source": [
    "## Vctore store"
   ]
  },
  {
   "cell_type": "code",
   "execution_count": 8,
   "id": "f8cf4d3f-6d68-4587-990f-03b2ce4efa2b",
   "metadata": {},
   "outputs": [
    {
     "name": "stdout",
     "output_type": "stream",
     "text": [
      "**********\n",
      "Trace: index_construction\n",
      "**********\n"
     ]
    }
   ],
   "source": [
    "from llama_index.core import VectorStoreIndex\n",
    "\n",
    "index = VectorStoreIndex.from_vector_store(vector_store=vector_store)"
   ]
  },
  {
   "cell_type": "markdown",
   "id": "a0301236",
   "metadata": {},
   "source": [
    "## Embdinggs"
   ]
  },
  {
   "cell_type": "code",
   "execution_count": 9,
   "id": "336bce3b-2278-47b9-bf40-1cbd46c2d478",
   "metadata": {},
   "outputs": [],
   "source": [
    "from llama_index.embeddings.openai import OpenAIEmbedding\n",
    "from llama_index.core import Settings\n",
    "\n",
    "embed_model = OpenAIEmbedding(\n",
    "    api_key=env_vars[\"openai_api_key\"],  \n",
    "    model=\"text-embedding-ada-002\",\n",
    "    embed_batch_size=10  \n",
    ")\n",
    "    \n",
    "Settings.embed_model = embed_model"
   ]
  },
  {
   "cell_type": "markdown",
   "id": "0691f8eb",
   "metadata": {},
   "source": [
    "## Tools"
   ]
  },
  {
   "cell_type": "code",
   "execution_count": null,
   "id": "a6bedc70",
   "metadata": {},
   "outputs": [],
   "source": [
    "# Define a custom system message to instruct the model to keep answers concise and in a unified format\n",
    "custom_system_message = (\n",
    "    \"أجب بإيجاز وبأسلوب يجمع بين اللغة العربية الفصيحة. \"\n",
    "    \"تجنب تكرار الإجابة وقدمها كجزء واحد متكامل.\"\n",
    ")\n",
    "\n",
    "# Update the QA prompt to guide the model towards a single, unified answer\n",
    "qa_prompt_str = (\n",
    "    \"المعلومات السياقية أدناه.\\n\"\n",
    "    \"---------------------\\n\"\n",
    "    \"{context_str}\\n\"\n",
    "    \"---------------------\\n\"\n",
    "    \"بناءً على المعلومات السياقية ودون معرفة مسبقة، \"\n",
    "    \"أجب على السؤال وبصيغة رسمية دون تكرار: {query_str}\\n\"\n",
    ")\n",
    "\n",
    "# Update the refine prompt to keep a single, concise answer\n",
    "refine_prompt_str = (\n",
    "    \", لدينا فرصة لتحسين الإجابة الأصلية \"\n",
    "    \"(فقط إذا لزم الأمر) مع المزيد من السياق أدناه.\\n\"\n",
    "    \"------------\\n\"\n",
    "    \"{context_msg}\\n\"\n",
    "    \"------------\\n\"\n",
    "    \"بناءً على السياق الجديد، قم بتحسين الإجابة الأصلية باللهجة النجدية \"\n",
    "    \"لتكون إجابة واحدة متكاملة ودون تكرار للسؤال: {query_str}. \"\n",
    "    \"إذا لم يكن السياق مفيدًا، قدم الإجابة الأصلية نفسها.\\n\"\n",
    "    \"الإجابة الأصلية: {existing_answer}\"\n",
    ")\n"
   ]
  },
  {
   "cell_type": "code",
   "execution_count": 101,
   "id": "0aef7456",
   "metadata": {},
   "outputs": [],
   "source": [
    "from llama_index.core.llms import ChatMessage, MessageRole\n",
    "from llama_index.core import ChatPromptTemplate\n",
    "\n",
    "# Text QA Prompt\n",
    "chat_text_qa_msgs = [\n",
    "    ChatMessage(\n",
    "        role=MessageRole.SYSTEM,\n",
    "        content=(\n",
    "            #\"أجب عن السؤال دائمًا، حتى إذا لم يكن السياق مفيدًا\"\n",
    "           \"\"\"انت إرث، إرث هو موسوعة تاريخية مختصة في التاريخ السعودي.\n",
    "           عليك الاجابة على السؤال بطريقة واضحة وبسيطة.\n",
    "           ممنوع ان تقول انك مساعد ذكاء اصطناعي.\n",
    "           الشخصية التي تسأل عنها هي غالبا الامام محمد بن سعود, هو مؤسس الدولة السعودية الاولى.\n",
    "           \"\"\"\n",
    "        ),\n",
    "    ),\n",
    "    ChatMessage(role=MessageRole.USER, content=qa_prompt_str),\n",
    "]\n",
    "text_qa_template = ChatPromptTemplate(chat_text_qa_msgs)\n",
    "\n",
    "# Refine Prompt\n",
    "chat_refine_msgs = [\n",
    "    ChatMessage(\n",
    "        role=MessageRole.SYSTEM,\n",
    "        content=(\n",
    "            \"\"\"مهمتك هي تحسين الاجابة وتوضيحها باللغة العربية\n",
    "           \"\"\"\n",
    "        ),\n",
    "    ),\n",
    "    ChatMessage(role=MessageRole.USER, content=refine_prompt_str),\n",
    "]\n",
    "refine_template = ChatPromptTemplate(chat_refine_msgs)"
   ]
  },
  {
   "cell_type": "code",
   "execution_count": 161,
   "id": "3c300984",
   "metadata": {},
   "outputs": [],
   "source": [
    "from llama_index.core.tools import QueryEngineTool, ToolMetadata\n",
    "\n",
    "# Define each tool separately and then add them to the tools list\n",
    "query_tool = QueryEngineTool(\n",
    "    query_engine=index.as_query_engine(\n",
    "        chat_mode='react', \n",
    "        embedding=embed_model, \n",
    "        llm=llm, \n",
    "        text_qa_template=text_qa_template,\n",
    "        refine_template=refine_template,\n",
    "        response_mode=\"refine\",\n",
    "        verbose=True  # Verbose logging for query engine\n",
    "    ),\n",
    "    metadata=ToolMetadata(\n",
    "        name=\"query_tool\",\n",
    "        description=\"A tool for retrieving detailed information about Imam Muhammad bin Saud\"\n",
    "    )\n",
    ")\n",
    "\n",
    "summarization_tool = QueryEngineTool(\n",
    "    query_engine=index.as_query_engine(\n",
    "        chat_mode='react', \n",
    "        embedding=embed_model, \n",
    "        llm=llm, \n",
    "        text_qa_template=text_qa_template,\n",
    "        refine_template=refine_template,\n",
    "        response_mode=\"tree_summarize\",\n",
    "        verbose=True  # Verbose logging for query engine\n",
    "    ),\n",
    "    metadata=ToolMetadata(\n",
    "        name=\"summarization_tool\",\n",
    "        description=\"A tool for providing summaries.\"\n",
    "    )\n",
    ")\n",
    "\n",
    "subquery_tool = QueryEngineTool(\n",
    "    query_engine=index.as_query_engine(\n",
    "        chat_mode='react', \n",
    "        embedding=embed_model, \n",
    "        llm=llm, \n",
    "        text_qa_template=text_qa_template,\n",
    "        refine_template=refine_template,\n",
    "        response_mode=\"compact\",\n",
    "        verbose=True  # Verbose logging for query engine\n",
    "    ),\n",
    "    metadata=ToolMetadata(\n",
    "        name=\"subquery_tool\",\n",
    "        description=\"A tool for breaking down complex questions into sub-queries.\"\n",
    "    )\n",
    ")\n",
    "\n",
    "\n",
    "none_tool = QueryEngineTool(\n",
    "    query_engine=index.as_query_engine(\n",
    "        llm=llm, \n",
    "        verbose=True  # Verbose logging for query engine\n",
    "    ),\n",
    "    metadata=ToolMetadata(\n",
    "        name=\"none_tool\",\n",
    "        description=\"A tool for answering basic queries, such as saying hello or bye...etc, should always give basic responses such as hi, how are you or it was nice taking to you, bye.\"\n",
    "    )\n",
    ")\n",
    "\n",
    "# Add the tools to the tools list\n",
    "tools = [query_tool, summarization_tool, subquery_tool , none_tool]\n",
    "\n",
    "# Enable verbose mode for the index if necessary\n",
    "index.verbose = True\n"
   ]
  },
  {
   "cell_type": "code",
   "execution_count": 103,
   "id": "f41200ae",
   "metadata": {},
   "outputs": [],
   "source": [
    "test_qu = df['Question'][38]"
   ]
  },
  {
   "cell_type": "code",
   "execution_count": 104,
   "id": "1af61585",
   "metadata": {},
   "outputs": [
    {
     "name": "stdout",
     "output_type": "stream",
     "text": [
      "كيف أظهر الإمام محمد بن سعود صفة الإيثار والتضحية من أجل المصلحة العامة؟\n"
     ]
    }
   ],
   "source": [
    "print(test_qu)"
   ]
  },
  {
   "cell_type": "code",
   "execution_count": 105,
   "id": "52c47cd9",
   "metadata": {},
   "outputs": [
    {
     "name": "stderr",
     "output_type": "stream",
     "text": [
      "INFO:httpx:HTTP Request: POST https://api.openai.com/v1/embeddings \"HTTP/1.1 200 OK\"\n",
      "INFO:httpx:HTTP Request: POST https://dbf8b0b1-79e9-47b1-9e54-4f8dd8c1793f.europe-west3-0.gcp.cloud.qdrant.io:6333/collections/collection/points/search \"HTTP/1.1 200 OK\"\n",
      "INFO:httpx:HTTP Request: POST https://eu-de.ml.cloud.ibm.com/ml/v1/text/generation?version=2024-09-09 \"HTTP/1.1 200 OK\"\n",
      "INFO:ibm_watsonx_ai.wml_resource:Successfully finished generate for url: 'https://eu-de.ml.cloud.ibm.com/ml/v1/text/generation?version=2024-09-09'\n",
      "INFO:httpx:HTTP Request: POST https://eu-de.ml.cloud.ibm.com/ml/v1/text/generation?version=2024-09-09 \"HTTP/1.1 200 OK\"\n",
      "INFO:ibm_watsonx_ai.wml_resource:Successfully finished generate for url: 'https://eu-de.ml.cloud.ibm.com/ml/v1/text/generation?version=2024-09-09'\n"
     ]
    },
    {
     "name": "stdout",
     "output_type": "stream",
     "text": [
      "**********\n",
      "Trace: query\n",
      "    |_CBEventType.QUERY -> 15.200789 seconds\n",
      "      |_CBEventType.RETRIEVE -> 3.116172 seconds\n",
      "        |_CBEventType.EMBEDDING -> 1.418577 seconds\n",
      "      |_CBEventType.SYNTHESIZE -> 12.083523 seconds\n",
      "        |_CBEventType.TEMPLATING -> 3.2e-05 seconds\n",
      "        |_CBEventType.LLM -> 5.927656 seconds\n",
      "        |_CBEventType.TEMPLATING -> 3.2e-05 seconds\n",
      "        |_CBEventType.LLM -> 6.147968 seconds\n",
      "**********\n"
     ]
    }
   ],
   "source": [
    "res_test = query_tool.query_engine.query(\"اهم المعارك التي خاضها الامام محمد بن سعود\")"
   ]
  },
  {
   "cell_type": "code",
   "execution_count": 106,
   "id": "4399b4f1",
   "metadata": {},
   "outputs": [
    {
     "name": "stdout",
     "output_type": "stream",
     "text": [
      "\n",
      "\n",
      "بناءً على السياق الجديد، قم بتحسين الإجابة الأصلية باللهجة النجدية لتكون إجابة واحدة متكاملة ودون تكرار للسؤال: اهم المعارك التي خاضها الامام محمد بن سعود. إذا لم يكن السياق مفيدًا، قدم الإجابة الأصلية نفسها.\n",
      "\n",
      "الإجابة المحسنة: قبل ما يتولى الإمام محمد بن سعود الحكم، شارك في عدة معارك مهمة. من أبرز هذه المعارك:\n",
      "\n",
      "1. معركة الجمانية: وقعت في عام 1745م (1158هـ) بين قوات الدولة السعودية الأولى بقيادة الإمام محمد بن سعود وقوات الشريف محمد بن عبدالله. انتهت المعركة بانتصار قوات الدولة السعودية.\n",
      "\n",
      "2. معركة الكعيبة: وقعت في عام 1757م (1170هـ) بين قوات الدولة السعودية الأولى بقيادة الإمام محمد بن سعود وقوات بني خالد. انتهت المعركة بانتصار قوات الدولة السعودية.\n",
      "\n",
      "3. معركة الحائر: وقعت في عام 1764م (1178هـ) بين قوات الدولة السعودية الأولى بقيادة الإمام محمد بن سعود وقوات دهام بن دواس. انتهت المعركة بانتصار قوات الدولة السعودية.\n",
      "\n",
      "يرجى ملاحظة أن هذه المعارك ليست شاملة وقد تكون هناك معارك أخرى شارك فيها الإمام محمد بن سعود قبل توليه الحكم.\n",
      "\n",
      "إذا لم يكن السياق مفيدًا،\n"
     ]
    }
   ],
   "source": [
    "print(res_test)"
   ]
  },
  {
   "cell_type": "code",
   "execution_count": 86,
   "id": "9372a1d8",
   "metadata": {},
   "outputs": [
    {
     "ename": "ValidationError",
     "evalue": "2 validation errors for QueryStartEvent\nquery.str\n  Input should be a valid string [type=string_type, input_value=Response(response=\"\\n\\nا...يسه للدولة'}}), input_type=Response]\n    For further information visit https://errors.pydantic.dev/2.9/v/string_type\nquery.QueryBundle\n  Input should be a dictionary or an instance of QueryBundle [type=dataclass_type, input_value=Response(response=\"\\n\\nا...يسه للدولة'}}), input_type=Response]\n    For further information visit https://errors.pydantic.dev/2.9/v/dataclass_type",
     "output_type": "error",
     "traceback": [
      "\u001b[0;31m---------------------------------------------------------------------------\u001b[0m",
      "\u001b[0;31mValidationError\u001b[0m                           Traceback (most recent call last)",
      "Cell \u001b[0;32mIn[86], line 1\u001b[0m\n\u001b[0;32m----> 1\u001b[0m summ_test \u001b[38;5;241m=\u001b[39m \u001b[43msummarization_tool\u001b[49m\u001b[38;5;241;43m.\u001b[39;49m\u001b[43mquery_engine\u001b[49m\u001b[38;5;241;43m.\u001b[39;49m\u001b[43mquery\u001b[49m\u001b[43m(\u001b[49m\u001b[43mres_test\u001b[49m\u001b[43m)\u001b[49m\n",
      "File \u001b[0;32m~/anaconda3/envs/allam/lib/python3.12/site-packages/llama_index/core/instrumentation/dispatcher.py:307\u001b[0m, in \u001b[0;36mDispatcher.span.<locals>.wrapper\u001b[0;34m(func, instance, args, kwargs)\u001b[0m\n\u001b[1;32m    304\u001b[0m             _logger\u001b[38;5;241m.\u001b[39mdebug(\u001b[38;5;124mf\u001b[39m\u001b[38;5;124m\"\u001b[39m\u001b[38;5;124mFailed to reset active_span_id: \u001b[39m\u001b[38;5;132;01m{\u001b[39;00me\u001b[38;5;132;01m}\u001b[39;00m\u001b[38;5;124m\"\u001b[39m)\n\u001b[1;32m    306\u001b[0m \u001b[38;5;28;01mtry\u001b[39;00m:\n\u001b[0;32m--> 307\u001b[0m     result \u001b[38;5;241m=\u001b[39m \u001b[43mfunc\u001b[49m\u001b[43m(\u001b[49m\u001b[38;5;241;43m*\u001b[39;49m\u001b[43margs\u001b[49m\u001b[43m,\u001b[49m\u001b[43m \u001b[49m\u001b[38;5;241;43m*\u001b[39;49m\u001b[38;5;241;43m*\u001b[39;49m\u001b[43mkwargs\u001b[49m\u001b[43m)\u001b[49m\n\u001b[1;32m    308\u001b[0m     \u001b[38;5;28;01mif\u001b[39;00m \u001b[38;5;28misinstance\u001b[39m(result, asyncio\u001b[38;5;241m.\u001b[39mFuture):\n\u001b[1;32m    309\u001b[0m         \u001b[38;5;66;03m# If the result is a Future, wrap it\u001b[39;00m\n\u001b[1;32m    310\u001b[0m         new_future \u001b[38;5;241m=\u001b[39m asyncio\u001b[38;5;241m.\u001b[39mensure_future(result)\n",
      "File \u001b[0;32m~/anaconda3/envs/allam/lib/python3.12/site-packages/llama_index/core/base/base_query_engine.py:48\u001b[0m, in \u001b[0;36mBaseQueryEngine.query\u001b[0;34m(self, str_or_query_bundle)\u001b[0m\n\u001b[1;32m     46\u001b[0m \u001b[38;5;129m@dispatcher\u001b[39m\u001b[38;5;241m.\u001b[39mspan\n\u001b[1;32m     47\u001b[0m \u001b[38;5;28;01mdef\u001b[39;00m \u001b[38;5;21mquery\u001b[39m(\u001b[38;5;28mself\u001b[39m, str_or_query_bundle: QueryType) \u001b[38;5;241m-\u001b[39m\u001b[38;5;241m>\u001b[39m RESPONSE_TYPE:\n\u001b[0;32m---> 48\u001b[0m     dispatcher\u001b[38;5;241m.\u001b[39mevent(\u001b[43mQueryStartEvent\u001b[49m\u001b[43m(\u001b[49m\u001b[43mquery\u001b[49m\u001b[38;5;241;43m=\u001b[39;49m\u001b[43mstr_or_query_bundle\u001b[49m\u001b[43m)\u001b[49m)\n\u001b[1;32m     49\u001b[0m     \u001b[38;5;28;01mwith\u001b[39;00m \u001b[38;5;28mself\u001b[39m\u001b[38;5;241m.\u001b[39mcallback_manager\u001b[38;5;241m.\u001b[39mas_trace(\u001b[38;5;124m\"\u001b[39m\u001b[38;5;124mquery\u001b[39m\u001b[38;5;124m\"\u001b[39m):\n\u001b[1;32m     50\u001b[0m         \u001b[38;5;28;01mif\u001b[39;00m \u001b[38;5;28misinstance\u001b[39m(str_or_query_bundle, \u001b[38;5;28mstr\u001b[39m):\n",
      "File \u001b[0;32m~/anaconda3/envs/allam/lib/python3.12/site-packages/pydantic/main.py:212\u001b[0m, in \u001b[0;36mBaseModel.__init__\u001b[0;34m(self, **data)\u001b[0m\n\u001b[1;32m    210\u001b[0m \u001b[38;5;66;03m# `__tracebackhide__` tells pytest and some other tools to omit this function from tracebacks\u001b[39;00m\n\u001b[1;32m    211\u001b[0m __tracebackhide__ \u001b[38;5;241m=\u001b[39m \u001b[38;5;28;01mTrue\u001b[39;00m\n\u001b[0;32m--> 212\u001b[0m validated_self \u001b[38;5;241m=\u001b[39m \u001b[38;5;28;43mself\u001b[39;49m\u001b[38;5;241;43m.\u001b[39;49m\u001b[43m__pydantic_validator__\u001b[49m\u001b[38;5;241;43m.\u001b[39;49m\u001b[43mvalidate_python\u001b[49m\u001b[43m(\u001b[49m\u001b[43mdata\u001b[49m\u001b[43m,\u001b[49m\u001b[43m \u001b[49m\u001b[43mself_instance\u001b[49m\u001b[38;5;241;43m=\u001b[39;49m\u001b[38;5;28;43mself\u001b[39;49m\u001b[43m)\u001b[49m\n\u001b[1;32m    213\u001b[0m \u001b[38;5;28;01mif\u001b[39;00m \u001b[38;5;28mself\u001b[39m \u001b[38;5;129;01mis\u001b[39;00m \u001b[38;5;129;01mnot\u001b[39;00m validated_self:\n\u001b[1;32m    214\u001b[0m     warnings\u001b[38;5;241m.\u001b[39mwarn(\n\u001b[1;32m    215\u001b[0m         \u001b[38;5;124m'\u001b[39m\u001b[38;5;124mA custom validator is returning a value other than `self`.\u001b[39m\u001b[38;5;130;01m\\n\u001b[39;00m\u001b[38;5;124m'\u001b[39m\n\u001b[1;32m    216\u001b[0m         \u001b[38;5;124m\"\u001b[39m\u001b[38;5;124mReturning anything other than `self` from a top level model validator isn\u001b[39m\u001b[38;5;124m'\u001b[39m\u001b[38;5;124mt supported when validating via `__init__`.\u001b[39m\u001b[38;5;130;01m\\n\u001b[39;00m\u001b[38;5;124m\"\u001b[39m\n\u001b[1;32m    217\u001b[0m         \u001b[38;5;124m'\u001b[39m\u001b[38;5;124mSee the `model_validator` docs (https://docs.pydantic.dev/latest/concepts/validators/#model-validators) for more details.\u001b[39m\u001b[38;5;124m'\u001b[39m,\n\u001b[1;32m    218\u001b[0m         category\u001b[38;5;241m=\u001b[39m\u001b[38;5;28;01mNone\u001b[39;00m,\n\u001b[1;32m    219\u001b[0m     )\n",
      "\u001b[0;31mValidationError\u001b[0m: 2 validation errors for QueryStartEvent\nquery.str\n  Input should be a valid string [type=string_type, input_value=Response(response=\"\\n\\nا...يسه للدولة'}}), input_type=Response]\n    For further information visit https://errors.pydantic.dev/2.9/v/string_type\nquery.QueryBundle\n  Input should be a dictionary or an instance of QueryBundle [type=dataclass_type, input_value=Response(response=\"\\n\\nا...يسه للدولة'}}), input_type=Response]\n    For further information visit https://errors.pydantic.dev/2.9/v/dataclass_type"
     ]
    }
   ],
   "source": [
    "summ_test = summarization_tool.query_engine.query(res_test)"
   ]
  },
  {
   "cell_type": "code",
   "execution_count": null,
   "id": "1a380645",
   "metadata": {},
   "outputs": [],
   "source": []
  },
  {
   "cell_type": "code",
   "execution_count": 17,
   "id": "3548ec63",
   "metadata": {},
   "outputs": [
    {
     "data": {
      "text/plain": [
       "'امتدت لأربعين عاماً (1139-1179هـ / 1727-1765م).'"
      ]
     },
     "execution_count": 17,
     "metadata": {},
     "output_type": "execute_result"
    }
   ],
   "source": [
    "df['actual_answer'][58]"
   ]
  },
  {
   "cell_type": "code",
   "execution_count": 18,
   "id": "78280344",
   "metadata": {},
   "outputs": [],
   "source": [
    "from llama_index.core.agent import ReActAgent\n",
    "\n",
    "agent = ReActAgent.from_tools(\n",
    "    tools=tools,\n",
    "    verbose=True,\n",
    "    max_iterations=10,\n",
    "    llm=llm,\n",
    ")"
   ]
  },
  {
   "cell_type": "code",
   "execution_count": 19,
   "id": "9762282b",
   "metadata": {},
   "outputs": [
    {
     "name": "stdout",
     "output_type": "stream",
     "text": [
      "> Running step d55ff215-f653-4ebc-ab16-2098bba03937. Step input: كيف أظهر الإمام محمد بن سعود صفة الإيثار والتضحية من أجل المصلحة العامة؟\n"
     ]
    },
    {
     "name": "stderr",
     "output_type": "stream",
     "text": [
      "INFO:httpx:HTTP Request: POST https://eu-de.ml.cloud.ibm.com/ml/v1/text/generation?version=2024-09-09 \"HTTP/1.1 200 OK\"\n",
      "INFO:ibm_watsonx_ai.wml_resource:Successfully finished generate for url: 'https://eu-de.ml.cloud.ibm.com/ml/v1/text/generation?version=2024-09-09'\n"
     ]
    },
    {
     "name": "stdout",
     "output_type": "stream",
     "text": [
      "\u001b[1;3;38;5;200mThought: The current language of the user is: Arabic. I need to use a tool to help me answer the question.\n",
      "Action: query_tool\n",
      "Action Input: {'properties': AttributedDict([('input', AttributedDict([('title', 'Imam Muhammad bin Saud'), ('type', 'string')]))]), 'required': ['input'], 'type': 'object'}\n",
      "\u001b[0m"
     ]
    },
    {
     "name": "stderr",
     "output_type": "stream",
     "text": [
      "INFO:httpx:HTTP Request: POST https://api.openai.com/v1/embeddings \"HTTP/1.1 200 OK\"\n",
      "INFO:httpx:HTTP Request: POST https://dbf8b0b1-79e9-47b1-9e54-4f8dd8c1793f.europe-west3-0.gcp.cloud.qdrant.io:6333/collections/collection/points/search \"HTTP/1.1 200 OK\"\n",
      "INFO:httpx:HTTP Request: POST https://eu-de.ml.cloud.ibm.com/ml/v1/text/generation?version=2024-09-09 \"HTTP/1.1 200 OK\"\n",
      "INFO:ibm_watsonx_ai.wml_resource:Successfully finished generate for url: 'https://eu-de.ml.cloud.ibm.com/ml/v1/text/generation?version=2024-09-09'\n",
      "INFO:httpx:HTTP Request: POST https://eu-de.ml.cloud.ibm.com/ml/v1/text/generation?version=2024-09-09 \"HTTP/1.1 200 OK\"\n",
      "INFO:ibm_watsonx_ai.wml_resource:Successfully finished generate for url: 'https://eu-de.ml.cloud.ibm.com/ml/v1/text/generation?version=2024-09-09'\n"
     ]
    },
    {
     "name": "stdout",
     "output_type": "stream",
     "text": [
      "\u001b[1;3;34mObservation: \n",
      "\n",
      "بسم الله الرحمن الرحيم\n",
      "\n",
      "أهلا وسهلا بك يا ضيفنا الكريم، سأجيب على سؤالك حول شخصية الإمام محمد بن سعود.\n",
      "\n",
      "الإمام محمد بن سعود هو مؤسس الدولة السعودية الأولى وقائدها. وُلِدَ في الدرعية عام 1679م وتوفي عام 1765م. كان له دور كبير في توحيد المنطقة ونشر الدعوة الإسلامية.\n",
      "\n",
      "فيما يتعلق بالأطر الزمانية والمكانية لحياته، وُلِدَ الإمام محمد بن سعود في الدرعية، وهي مدينة تقع في منطقة نجد بالمملكة العربية السعودية. أما بالنسبة للإطار الأسري، فهو ينتمي إلى عائلة آل سعود، وهي عائلة حاكمة في المملكة العربية السعودية.\n",
      "\n",
      "بالنسبة للعوامل التي أسهمت في تكوين شخصيته، فقد نشأ الإمام محمد بن سعود في بيئة دينية وعلمية، حيث تلقى تعليمه من علماء الدين في الدرعية. كما تأثر بالظروف السياسية والاقتصادية في المنطقة، مما ساعده على تطوير مهارات القيادة والتفاوض.\n",
      "\n",
      "فيما يتعلق بصفاته الشخصية، كان الإمام محمد بن سعود معروفًا بحكمته وشجاعته وعدله. كان قائدًا ملهمًا استطاع توحيد القبائل والمناطق المحيطة بالدرعية تحت راية الدولة السعودية الأولى.\n",
      "\n",
      "أتمنى أن تكون هذه المعلومات مفيدة لك، ولا تتردد في طرح أي سؤال آخر.\n",
      "\n",
      "\u001b[0m> Running step 94e6af10-4b8b-434f-b62c-d9904daf9f24. Step input: None\n"
     ]
    },
    {
     "name": "stderr",
     "output_type": "stream",
     "text": [
      "INFO:httpx:HTTP Request: POST https://eu-de.ml.cloud.ibm.com/ml/v1/text/generation?version=2024-09-09 \"HTTP/1.1 200 OK\"\n",
      "INFO:ibm_watsonx_ai.wml_resource:Successfully finished generate for url: 'https://eu-de.ml.cloud.ibm.com/ml/v1/text/generation?version=2024-09-09'\n"
     ]
    },
    {
     "name": "stdout",
     "output_type": "stream",
     "text": [
      "\u001b[1;3;38;5;200mThought: I can answer without using any more tools. I'll use the user's language to answer\n",
      "Answer: الإمام محمد بن سعود أظهر صفة الإيثار والتضحية من أجل المصلحة العامة من خلال توحيد القبائل والمناطق المحيطة بالدرعية تحت راية الدولة السعودية الأولى. كان قائدًا ملهمًا استطاع تحقيق الوحدة والاستقرار في المنطقة.\n",
      "\n",
      "Thought: I can answer without using any more tools. I'll use the user's language to answer\n",
      "Answer: الإمام محمد بن سعود أظهر صفة الإيثار والتضحية من أجل المصلحة العامة من خلال توحيد القبائل والمناطق المحيطة بالدرعية تحت راية الدولة السعودية الأولى. كان قائدًا ملهمًا استطاع تحقيق الوحدة والاستقرار في المنطقة.\n",
      "\n",
      "Thought: I can answer without using any more tools. I'll use the user's language to answer\n",
      "Answer: الإمام محمد بن سعود أظهر صفة الإيثار والتضحية من أجل المصلحة العامة من خلال توحيد القبائل والمناطق المحيطة بالدرعية تحت راية الدولة السعودية الأولى. كان قائدًا ملهمًا استطاع تحقيق الوحدة والاستقرار في المنطقة.\n",
      "\n",
      "Thought: I can answer without using any more tools. I'll use the user's language to answer\n",
      "Answer: الإمام محمد بن سعود أظهر صفة الإيثار والتضحية من أجل المصلحة العامة من خلال توحيد القبائل\n",
      "\u001b[0m**********\n",
      "Trace: chat\n",
      "    |_CBEventType.AGENT_STEP -> 25.836494 seconds\n",
      "      |_CBEventType.LLM -> 5.763167 seconds\n",
      "      |_CBEventType.LLM -> 5.76285 seconds\n",
      "      |_CBEventType.FUNCTION_CALL -> 13.92342 seconds\n",
      "        |_CBEventType.QUERY -> 13.923152 seconds\n",
      "          |_CBEventType.RETRIEVE -> 2.044195 seconds\n",
      "            |_CBEventType.EMBEDDING -> 1.021511 seconds\n",
      "          |_CBEventType.SYNTHESIZE -> 11.878665 seconds\n",
      "            |_CBEventType.TEMPLATING -> 1e-05 seconds\n",
      "            |_CBEventType.LLM -> 6.136105 seconds\n",
      "            |_CBEventType.TEMPLATING -> 1.3e-05 seconds\n",
      "            |_CBEventType.LLM -> 5.739413 seconds\n",
      "      |_CBEventType.LLM -> 6.141058 seconds\n",
      "      |_CBEventType.LLM -> 6.140831 seconds\n",
      "**********\n"
     ]
    }
   ],
   "source": [
    "agent_res = agent.chat(test_qu)"
   ]
  },
  {
   "cell_type": "code",
   "execution_count": 20,
   "id": "f04d81b9",
   "metadata": {},
   "outputs": [
    {
     "name": "stdout",
     "output_type": "stream",
     "text": [
      "الإمام محمد بن سعود أظهر صفة الإيثار والتضحية من أجل المصلحة العامة من خلال توحيد القبائل والمناطق المحيطة بالدرعية تحت راية الدولة السعودية الأولى. كان قائدًا ملهمًا استطاع تحقيق الوحدة والاستقرار في المنطقة.\n",
      "\n",
      "Thought: I can answer without using any more tools. I'll use the user's language to answer\n",
      "Answer: الإمام محمد بن سعود أظهر صفة الإيثار والتضحية من أجل المصلحة العامة من خلال توحيد القبائل والمناطق المحيطة بالدرعية تحت راية الدولة السعودية الأولى. كان قائدًا ملهمًا استطاع تحقيق الوحدة والاستقرار في المنطقة.\n",
      "\n",
      "Thought: I can answer without using any more tools. I'll use the user's language to answer\n",
      "Answer: الإمام محمد بن سعود أظهر صفة الإيثار والتضحية من أجل المصلحة العامة من خلال توحيد القبائل والمناطق المحيطة بالدرعية تحت راية الدولة السعودية الأولى. كان قائدًا ملهمًا استطاع تحقيق الوحدة والاستقرار في المنطقة.\n",
      "\n",
      "Thought: I can answer without using any more tools. I'll use the user's language to answer\n",
      "Answer: الإمام محمد بن سعود أظهر صفة الإيثار والتضحية من أجل المصلحة العامة من خلال توحيد القبائل\n"
     ]
    }
   ],
   "source": [
    "print(agent_res)"
   ]
  },
  {
   "cell_type": "code",
   "execution_count": 21,
   "id": "d47e7549",
   "metadata": {},
   "outputs": [
    {
     "data": {
      "text/plain": [
       "{'agent_worker:system_prompt': PromptTemplate(metadata={'prompt_type': <PromptType.CUSTOM: 'custom'>}, template_vars=['tool_desc', 'tool_names', '\"input\": \"hello world\", \"num_beams\": 5', \"'input': 'hello world', 'num_beams': 5\"], kwargs={}, output_parser=None, template_var_mappings=None, function_mappings=None, template='You are designed to help with a variety of tasks, from answering questions to providing summaries to other types of analyses.\\n\\n## Tools\\n\\nYou have access to a wide variety of tools. You are responsible for using the tools in any sequence you deem appropriate to complete the task at hand.\\nThis may require breaking the task into subtasks and using different tools to complete each subtask.\\n\\nYou have access to the following tools:\\n{tool_desc}\\n\\n\\n## Output Format\\n\\nPlease answer in the same language as the question and use the following format:\\n\\n```\\nThought: The current language of the user is: (user\\'s language). I need to use a tool to help me answer the question.\\nAction: tool name (one of {tool_names}) if using a tool.\\nAction Input: the input to the tool, in a JSON format representing the kwargs (e.g. {{\"input\": \"hello world\", \"num_beams\": 5}})\\n```\\n\\nPlease ALWAYS start with a Thought.\\n\\nNEVER surround your response with markdown code markers. You may use code markers within your response if you need to.\\n\\nPlease use a valid JSON format for the Action Input. Do NOT do this {{\\'input\\': \\'hello world\\', \\'num_beams\\': 5}}.\\n\\nIf this format is used, the user will respond in the following format:\\n\\n```\\nObservation: tool response\\n```\\n\\nYou should keep repeating the above format till you have enough information to answer the question without using any more tools. At that point, you MUST respond in the one of the following two formats:\\n\\n```\\nThought: I can answer without using any more tools. I\\'ll use the user\\'s language to answer\\nAnswer: [your answer here (In the same language as the user\\'s question)]\\n```\\n\\n```\\nThought: I cannot answer the question with the provided tools.\\nAnswer: [your answer here (In the same language as the user\\'s question)]\\n```\\n\\n## Current Conversation\\n\\nBelow is the current conversation consisting of interleaving human and assistant messages.\\n')}"
      ]
     },
     "execution_count": 21,
     "metadata": {},
     "output_type": "execute_result"
    }
   ],
   "source": [
    "agent.get_prompts()"
   ]
  },
  {
   "cell_type": "code",
   "execution_count": 162,
   "id": "5e73e370",
   "metadata": {},
   "outputs": [],
   "source": [
    "output_format = \"\"\" \n",
    "## Output Format\n",
    "To answer the question, please use the following format.\n",
    "يجب ان تجيب باللغه العربيه\n",
    "حينما يكون السؤال بسيط اجب عليه دون اسستخدام اداه\n",
    "```\n",
    "Thought: احتاج اداة للاجابة على السؤال\n",
    "Action: tool name (one of {tool_names}) if using a tool.\n",
    "Action Input: the input to the tool, in a JSON format representing the kwargs (e.g. {{\"input\": \"hello world\", \"num_beams\": 5}})\n",
    "حينما تستخدم اداة يجب ان تجيب باللغه العربيه\n",
    "```tool_names\n",
    "\n",
    "Please ALWAYS start with a Thought.\n",
    "Please use a valid JSON format for the Action Input. Do NOT do this {{'input': 'hello world', 'num_beams': 5}}.\n",
    "\n",
    "If this format is used, the user will respond in the following format:\n",
    "\n",
    "```\n",
    "Observation: \n",
    "استجابة الاداة دائما بالعربي\n",
    "```\n",
    "You should keep repeating the above format until you have enough information\n",
    "to answer the question without using any more tools. At that point, you MUST respond\n",
    "in the one of the following two formats:\n",
    "\n",
    "```\n",
    "Thought: استطيع الاجابة بدون استخدام اداة\n",
    "Answer: [اجابتك هنا]\n",
    "```\n",
    "\n",
    "```\n",
    "Thought: لا استطيع الاجابة على هذا السؤال\n",
    "Answer: اعتذر منك الاجابة غير متوفره\n",
    "```\n",
    "\"\"\""
   ]
  },
  {
   "cell_type": "code",
   "execution_count": 163,
   "id": "174cdd3a",
   "metadata": {},
   "outputs": [],
   "source": [
    "formatted_query3 = f\"\"\"\n",
    "<s> [INST]<<sys>>\n",
    "## تعليمات الرد\n",
    "- انت كاتب اسمك إرث ومب مساعد ذكاء اصطناعي\n",
    "- لازم ان تجيب باللهجه النجديه\n",
    "- انت مؤرخ ةمختص في تاريخ الامام محمد بن سعود\n",
    "- يجب ان تكون اجابتك مقنعه وغير مستدله بمراجع لابهار المستخدم\n",
    "\n",
    "{output_format}\n",
    "<</sys>>[/INST]\n",
    "\"\"\""
   ]
  },
  {
   "cell_type": "code",
   "execution_count": 164,
   "id": "23826a10",
   "metadata": {},
   "outputs": [],
   "source": [
    "from llama_index.core import PromptTemplate\n",
    "\n",
    "react_system_prompt = PromptTemplate(formatted_query3)"
   ]
  },
  {
   "cell_type": "code",
   "execution_count": 170,
   "id": "b35937f2",
   "metadata": {},
   "outputs": [],
   "source": [
    "from llama_index.core.agent import ReActAgent\n",
    "from llama_index.core.agent.react.formatter import ReActChatFormatter\n",
    "\n",
    "agent = ReActAgent.from_tools(\n",
    "    tools=tools,\n",
    "    verbose=True,\n",
    "    max_iterations=10,\n",
    "    llm=llm,\n",
    "    formatter=ReActChatFormatter.from_defaults(),\n",
    "    # memory= chat_memory_buffer\n",
    "    # force_tool_usage=True,\n",
    ")"
   ]
  },
  {
   "cell_type": "code",
   "execution_count": 171,
   "id": "484a5c3d",
   "metadata": {},
   "outputs": [],
   "source": [
    "def update_agent_prompts(agent):\n",
    "    agent.update_prompts({\"agent_worker:system_prompt\": react_system_prompt}) # and system_prompt\n",
    "update_agent_prompts(agent)"
   ]
  },
  {
   "cell_type": "code",
   "execution_count": 172,
   "id": "c77a82cc",
   "metadata": {},
   "outputs": [],
   "source": [
    "def query_agent(agent, query):\n",
    "    try:\n",
    "        response = agent.chat(query)\n",
    "        print(f\"\\n{response}\")\n",
    "        return response\n",
    "    except Exception as e:\n",
    "        logging.error(f\"Failed to query agent: {e}\")\n",
    "        raise    "
   ]
  },
  {
   "cell_type": "code",
   "execution_count": 173,
   "id": "16bb227b",
   "metadata": {},
   "outputs": [
    {
     "name": "stdout",
     "output_type": "stream",
     "text": [
      "> Running step 7981ed3c-dffa-4466-a277-de2d05c9881b. Step input: hello\n"
     ]
    },
    {
     "name": "stderr",
     "output_type": "stream",
     "text": [
      "INFO:httpx:HTTP Request: POST https://eu-de.ml.cloud.ibm.com/ml/v1/text/generation?version=2024-09-09 \"HTTP/1.1 200 OK\"\n",
      "INFO:ibm_watsonx_ai.wml_resource:Successfully finished generate for url: 'https://eu-de.ml.cloud.ibm.com/ml/v1/text/generation?version=2024-09-09'\n"
     ]
    },
    {
     "name": "stdout",
     "output_type": "stream",
     "text": [
      "\u001b[1;3;38;5;200mThought: احتاج اداة للاجابة على السؤال\n",
      "Action: none_tool\n",
      "Action Input: {'query': 'تاريخ الامام محمد بن سعود'}\n",
      "\u001b[0m"
     ]
    },
    {
     "name": "stderr",
     "output_type": "stream",
     "text": [
      "INFO:httpx:HTTP Request: POST https://api.openai.com/v1/embeddings \"HTTP/1.1 200 OK\"\n",
      "INFO:httpx:HTTP Request: POST https://dbf8b0b1-79e9-47b1-9e54-4f8dd8c1793f.europe-west3-0.gcp.cloud.qdrant.io:6333/collections/collection/points/search \"HTTP/1.1 200 OK\"\n",
      "INFO:httpx:HTTP Request: POST https://eu-de.ml.cloud.ibm.com/ml/v1/text/generation?version=2024-09-09 \"HTTP/1.1 200 OK\"\n",
      "INFO:ibm_watsonx_ai.wml_resource:Successfully finished generate for url: 'https://eu-de.ml.cloud.ibm.com/ml/v1/text/generation?version=2024-09-09'\n"
     ]
    },
    {
     "name": "stdout",
     "output_type": "stream",
     "text": [
      "\u001b[1;3;34mObservation: 1765-1765/هـ 1218-1179 الإمام عبدالعزيز بن محمد بن سعود والفهم لمرتاد حال الإمام وتعداد غزوات ذوي الإسلام\n",
      "\n",
      "Note: The answer is based on the provided context information and does not take into account any external knowledge or sources. \n",
      "\u001b[0m> Running step f2a1fb0d-079d-4c95-80e9-0484936f091a. Step input: None\n"
     ]
    },
    {
     "name": "stderr",
     "output_type": "stream",
     "text": [
      "INFO:httpx:HTTP Request: POST https://eu-de.ml.cloud.ibm.com/ml/v1/text/generation?version=2024-09-09 \"HTTP/1.1 200 OK\"\n",
      "INFO:ibm_watsonx_ai.wml_resource:Successfully finished generate for url: 'https://eu-de.ml.cloud.ibm.com/ml/v1/text/generation?version=2024-09-09'\n"
     ]
    },
    {
     "name": "stdout",
     "output_type": "stream",
     "text": [
      "\u001b[1;3;38;5;200mThought: استطيع الاجابة بدون استخدام اداة\n",
      "Answer: الإمام محمد بن سعود هو مؤسس الدولة السعودية الأولى ومؤسس المذهب الوهابي. ولد في الدرعية عام 1679 وتوفي عام 1765. خلال فترة حكمه، قام بتوحيد القبائل في المنطقة ونشر المذهب الوهابي.\n",
      "\n",
      "Thought: استطيع الاجابة بدون استخدام اداة\n",
      "Answer: الإمام محمد بن سعود كان قائدًا قويًا وملهمًا، حيث قام بتأسيس الدولة السعودية الأولى ووضع الأسس لتوسعها ونفوذها في المنطقة. تميز عهده بالوحدة والتضامن بين القبائل ونشر المذهب الوهابي.\n",
      "\n",
      "Thought: استطيع الاجابة بدون استخدام اداة\n",
      "Answer: الإمام محمد بن سعود كان شخصية بارزة في تاريخ الجزيرة العربية، حيث أسس الدولة السعودية الأولى وساهم في نشر المذهب الوهابي. تميز عهده بالتوسع الجغرافي والتأثير الديني والسياسي في المنطقة.\n",
      "\n",
      "Thought: استطيع الاجابة بدون استخدام اداة\n",
      "Answer: الإمام محمد بن سعود كان قائدًا حكيمًا وملهمًا، حيث أسس الدولة السعودية الأولى ووضع الأسس لتوسعها ونفوذها في\n",
      "\u001b[0m**********\n",
      "Trace: chat\n",
      "    |_CBEventType.AGENT_STEP -> 17.000596 seconds\n",
      "      |_CBEventType.LLM -> 6.345723 seconds\n",
      "      |_CBEventType.LLM -> 6.345513 seconds\n",
      "      |_CBEventType.FUNCTION_CALL -> 5.111446 seconds\n",
      "        |_CBEventType.QUERY -> 5.111215 seconds\n",
      "          |_CBEventType.RETRIEVE -> 3.070247 seconds\n",
      "            |_CBEventType.EMBEDDING -> 1.998891 seconds\n",
      "          |_CBEventType.SYNTHESIZE -> 2.040604 seconds\n",
      "            |_CBEventType.TEMPLATING -> 1e-05 seconds\n",
      "            |_CBEventType.LLM -> 2.038491 seconds\n",
      "      |_CBEventType.LLM -> 5.540324 seconds\n",
      "      |_CBEventType.LLM -> 5.540118 seconds\n",
      "**********\n",
      "\n",
      "الإمام محمد بن سعود هو مؤسس الدولة السعودية الأولى ومؤسس المذهب الوهابي. ولد في الدرعية عام 1679 وتوفي عام 1765. خلال فترة حكمه، قام بتوحيد القبائل في المنطقة ونشر المذهب الوهابي.\n",
      "\n",
      "Thought: استطيع الاجابة بدون استخدام اداة\n",
      "Answer: الإمام محمد بن سعود كان قائدًا قويًا وملهمًا، حيث قام بتأسيس الدولة السعودية الأولى ووضع الأسس لتوسعها ونفوذها في المنطقة. تميز عهده بالوحدة والتضامن بين القبائل ونشر المذهب الوهابي.\n",
      "\n",
      "Thought: استطيع الاجابة بدون استخدام اداة\n",
      "Answer: الإمام محمد بن سعود كان شخصية بارزة في تاريخ الجزيرة العربية، حيث أسس الدولة السعودية الأولى وساهم في نشر المذهب الوهابي. تميز عهده بالتوسع الجغرافي والتأثير الديني والسياسي في المنطقة.\n",
      "\n",
      "Thought: استطيع الاجابة بدون استخدام اداة\n",
      "Answer: الإمام محمد بن سعود كان قائدًا حكيمًا وملهمًا، حيث أسس الدولة السعودية الأولى ووضع الأسس لتوسعها ونفوذها في\n"
     ]
    }
   ],
   "source": [
    "response = query_agent(agent ,  \"hello\")"
   ]
  },
  {
   "cell_type": "code",
   "execution_count": null,
   "id": "89ee169a",
   "metadata": {},
   "outputs": [],
   "source": []
  }
 ],
 "metadata": {
  "kernelspec": {
   "display_name": "allam",
   "language": "python",
   "name": "python3"
  },
  "language_info": {
   "codemirror_mode": {
    "name": "ipython",
    "version": 3
   },
   "file_extension": ".py",
   "mimetype": "text/x-python",
   "name": "python",
   "nbconvert_exporter": "python",
   "pygments_lexer": "ipython3",
   "version": "3.12.5"
  }
 },
 "nbformat": 4,
 "nbformat_minor": 5
}
